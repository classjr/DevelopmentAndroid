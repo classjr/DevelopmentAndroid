{
  "nbformat": 4,
  "nbformat_minor": 0,
  "metadata": {
    "colab": {
      "name": "projectVisionComputer.ipynb",
      "provenance": [],
      "collapsed_sections": [],
      "include_colab_link": true
    },
    "kernelspec": {
      "name": "python3",
      "display_name": "Python 3"
    }
  },
  "cells": [
    {
      "cell_type": "markdown",
      "metadata": {
        "id": "view-in-github",
        "colab_type": "text"
      },
      "source": [
        "<a href=\"https://colab.research.google.com/github/classjr/DevelopmentAndroid/blob/master/projectVisionComputer.ipynb\" target=\"_parent\"><img src=\"https://colab.research.google.com/assets/colab-badge.svg\" alt=\"Open In Colab\"/></a>"
      ]
    },
    {
      "cell_type": "code",
      "source": [
        "from google.colab import drive\n",
        "\n",
        "drive.mount('/content/drive/', force_remount=True)\n",
        "\n",
        "# Se você estiver acessando a pasta 'TCC01' e não foi quem a criou, terá que vincular ao\n",
        "# seu drive local apenas clicando em cima da pasta citada com o botão direito\n",
        "# e escolha a opção 'Adicionar Atalho ao google Drive' para criar um link e assim\n",
        "# funcionar normalmente o acesso.\n",
        "%cd drive/MyDrive/TCC01\n",
        "%ls .\n",
        "\n"
      ],
      "metadata": {
        "id": "tY9iBgyDpfNv"
      },
      "execution_count": null,
      "outputs": []
    },
    {
      "cell_type": "code",
      "source": [
        "#Só execute esse comando caso não tenha os arquivos de teste e treino no drive\n",
        "!curl -L \"https://app.roboflow.com/ds/mse5jwKG5x?key=r9ZYOsD08R\" > roboflow.zip; unzip roboflow.zip; rm roboflow.zip"
      ],
      "metadata": {
        "id": "4QOjcjEYoKv-"
      },
      "execution_count": null,
      "outputs": []
    },
    {
      "cell_type": "code",
      "metadata": {
        "id": "lEZY2_FvZ173"
      },
      "source": [
        "import tensorflow\n",
        "from tensorflow import keras\n",
        "import matplotlib.pyplot as plt\n",
        "import numpy as np\n",
        "\n",
        "\n",
        "NUMERO_EPOCA = 50\n",
        "TAXA_APRENDIZADO = 0.0001\n",
        "TAMANHO_IMAGEM = 224\n",
        "TAMANHO_BATCH = 10\n"
      ],
      "execution_count": 77,
      "outputs": []
    },
    {
      "cell_type": "code",
      "source": [
        "import pandas as pd\n",
        "import os\n",
        "import cv2\n",
        "from google.colab.patches import cv2_imshow\n",
        "import numpy as np\n",
        "from sklearn.model_selection import train_test_split\n",
        "\n",
        "class FileCsv:\n",
        "\n",
        "    def read(self,path):\n",
        "        try:\n",
        "            images = {}\n",
        "            data = pd.read_csv(path)\n",
        "            for index in range(len(data)):\n",
        "                #print(data.loc[index][0])\n",
        "                if data.loc[index][0] not in images:\n",
        "                    annot = []\n",
        "                else:\n",
        "                    annot = images[ data.loc[index][0] ]\n",
        "                annot.append([data.loc[index][4],data.loc[index][5],data.loc[index][6],data.loc[index][7]])\n",
        "                images[data.loc[index][0]] = annot\n",
        "            return images\n",
        "        except ValueError as error:\n",
        "            print(error)\n",
        "\n",
        "class Image:\n",
        "\n",
        "  def processing(self, img, sigma=0.33):\n",
        "    try:\n",
        "      # Converte imagem para cinza\n",
        "      gray = cv2.cvtColor(img,cv2.COLOR_BGR2GRAY)\n",
        "      thresh = cv2.adaptiveThreshold(gray,255,cv2.ADAPTIVE_THRESH_MEAN_C,cv2.THRESH_BINARY_INV,39,1)\n",
        "      #cv2_imshow( thresh )\n",
        "      medianValues = np.median(thresh)\n",
        "      lower = int(max(0, (1.0 - sigma) * medianValues))\n",
        "      upper = int(min(255, (1.0 + sigma) * medianValues))\n",
        "      edged = cv2.Canny(thresh, lower, upper)\n",
        "\n",
        "      #cv2_imshow( edged )\n",
        "      self.getLetters(img, thresh)\n",
        "      self.getLetters(img, edged)\n",
        "  \n",
        "    except ValueError as error:\n",
        "      print(error)\n",
        "\n",
        "  def getLetters(self, img, edges):\n",
        "    try:\n",
        "      ctrs, _ = cv2.findContours(edges.copy(), cv2.RETR_EXTERNAL, cv2.CHAIN_APPROX_SIMPLE)\n",
        "      sorted_ctrs = sorted(ctrs, key=lambda ctr: cv2.boundingRect(ctr)[0])\n",
        "      img_area = img.shape[0]*img.shape[1]\n",
        "      for i, ctr in enumerate(sorted_ctrs):\n",
        "        x, y, w, h = cv2.boundingRect(ctr)\n",
        "        #cv2.rectangle(img,(x,y),( x + w, y + h ),(0,0,255),1)\n",
        "        roi_area = w*h\n",
        "        roi_ratio = roi_area/img_area\n",
        "        if((roi_ratio >= 0.015) and (roi_ratio < 0.09)):\n",
        "          if ((h>1.8*w) and (4*w>=h)):\n",
        "            cv2.rectangle(img,(x,y),( x + w, y + h ),(0,0,255),1)\n",
        "      cv2_imshow( img )\n",
        "\n",
        "    except ValueError as error:\n",
        "      print(error)\n",
        "\n",
        "\n",
        "\n",
        "class LoadImage:\n",
        "\n",
        "  def getRoi(self, img, points):\n",
        "    try:\n",
        "      image = img[int(points[1]):int(points[3]), int(points[0]):int(points[2])] #Retorna uma subimagem\n",
        "      #image = cv2.resize(image, (150,75), interpolation= cv2.INTER_LINEAR)\n",
        "      return image\n",
        "    except ValueError as error:\n",
        "      print(error)\n",
        "\n",
        "  def drawPlate(self,img, points, color=(0,255,0) ):\n",
        "    try:\n",
        "      image = cv2.rectangle(img, (points[0],points[1]), (points[2],points[3]), color , 1) #BGR\n",
        "      return image\n",
        "    except ValueError as error:\n",
        "      print(error)\n",
        "\n",
        "  def loading(self, dicionario):\n",
        "    try:\n",
        "      imgs   = []\n",
        "      points = []\n",
        "      for pathImg in dicionario.keys():  # Pois keys são os nomes das imagens\n",
        "        img = (cv2.imread(os.path.join('train', pathImg) ))\n",
        "        point = dicionario.get(pathImg)[0]# Pega as anotações da placa [x, y, x+w, y+h]\n",
        "        (H,W) = img.shape[:2]             # Pega o tamanho da imagem em questão\n",
        "        point[0] = float(point[0]/W)\n",
        "        point[1] = float(point[1]/H)\n",
        "        point[2] = float(point[2]/W)\n",
        "        point[3] = float(point[3]/H)\n",
        "        points.append( point )\n",
        "        img = cv2.resize(img, (TAMANHO_IMAGEM,TAMANHO_IMAGEM), interpolation= cv2.INTER_LINEAR)\n",
        "        imgs.append( np.array(img, dtype=\"float32\") /255.0 )\n",
        "      return np.asarray(imgs), np.asarray(points)\n",
        "    except ValueError as error:\n",
        "      print(error)\n",
        "\n",
        "csv = FileCsv()\n",
        "dicionarioImagens = csv.read('train/_annotations.csv')\n",
        "ld = LoadImage()\n",
        "x, y = ld.loading(dicionarioImagens)\n",
        "\n",
        "# Realiza a divisão de dataset em 90 e 10%, ou seja, 90% das imagens\n",
        "# para treino e 10% para teste durante o treinamento\n",
        "xtrain, xtest, ytrain, ytest=train_test_split(x, y, test_size=0.10)\n",
        "print('*'*20 , 'Carregou as imagens ', '*'*20) \n"
      ],
      "metadata": {
        "id": "HKDoWJ-NsdV0",
        "colab": {
          "base_uri": "https://localhost:8080/"
        },
        "outputId": "c5ac79fa-09a5-4847-f583-b6fd485efc9a"
      },
      "execution_count": 78,
      "outputs": [
        {
          "output_type": "stream",
          "name": "stdout",
          "text": [
            "******************** Carregou as imagens  ********************\n"
          ]
        }
      ]
    },
    {
      "cell_type": "code",
      "source": [
        "# Referencia para estudo: https://pyimagesearch.com/2020/10/05/object-detection-bounding-box-regression-with-keras-tensorflow-and-deep-learning/\n",
        "from tensorflow.keras.applications import VGG16\n",
        "from tensorflow.keras.layers import Input\n",
        "from tensorflow.keras.layers import Flatten\n",
        "from tensorflow.keras.layers import Dense\n",
        "from tensorflow.keras.models import Model\n",
        "\n",
        "\n",
        "class Modelos:\n",
        "\n",
        "  def manual(self):\n",
        "    try:\n",
        "      # Rede criada manualmente, através da configuração de novas camadas\n",
        "      model = keras.Sequential()\n",
        "      model.add(keras.layers.Conv2D(32, 2, activation=\"relu\", input_shape=(TAMANHO_IMAGEM, TAMANHO_IMAGEM,3)))\n",
        "      model.add(keras.layers.Flatten())\n",
        "      model.add(keras.layers.Dense(64, activation=\"relu\"))\n",
        "      model.add(keras.layers.Dense(4, activation=\"sigmoid\"))\n",
        "      \n",
        "      model.compile(loss=\"mse\", optimizer=\"adam\")\n",
        "      return model\n",
        "    except ValueError as error:\n",
        "      print(error)\n",
        "  #Exemplos de outras redes: InceptionV3,mobileNet, efficientNet e etc \n",
        "  def transfer_learning_vgg(self):\n",
        "    try:\n",
        "\n",
        "      model = VGG16(weights=\"imagenet\", include_top=False,\n",
        "\t    input_tensor=Input(shape=(TAMANHO_IMAGEM, TAMANHO_IMAGEM, 3)))\n",
        "      model.trainable = False\n",
        "      saidaVGG = model.output\n",
        "      flatten = Flatten()(saidaVGG)\n",
        "\n",
        "      bboxHead = Dense(128, activation=\"relu\")(flatten)\n",
        "      bboxHead = Dense(64, activation=\"relu\")(bboxHead)\n",
        "      bboxHead = Dense(32, activation=\"relu\")(bboxHead)\n",
        "      bboxHead = Dense(4, activation=\"sigmoid\")(bboxHead)\n",
        "      model = Model(inputs=model.input, outputs=bboxHead)\n",
        "      return model\n",
        "    except ValueError as error:\n",
        "      print(error)\n",
        "\n",
        "teste = Modelos()\n",
        "#model = teste.manual()\n",
        "model = teste.transfer_learning_vgg()\n",
        "\n",
        "print('*'*20 , 'Criou o modelo de rede ', '*'*20) \n"
      ],
      "metadata": {
        "id": "jVIR5HCNGcyP",
        "colab": {
          "base_uri": "https://localhost:8080/"
        },
        "outputId": "75239863-a05e-4782-c2ef-2ca23c8a12be"
      },
      "execution_count": 73,
      "outputs": [
        {
          "output_type": "stream",
          "name": "stdout",
          "text": [
            "******************** Criou o modelo de rede  ********************\n"
          ]
        }
      ]
    },
    {
      "cell_type": "code",
      "source": [
        "from datetime import datetime\n",
        "hour  = datetime.now()\n",
        "\n",
        "opt = keras.optimizers.Adam(learning_rate=TAXA_APRENDIZADO)\n",
        "# Técnica capaz de parar o treinamento caso não exista uma melhora durante 5 épocas\n",
        "callback = tensorflow.keras.callbacks.EarlyStopping(monitor='loss', patience=5)\n",
        "\n",
        "#model.compile(optimizer=opt,loss='categorical_crossentropy',metrics=['accuracy',tensorflow.keras.metrics.Precision(), tensorflow.keras.metrics.Recall()])\n",
        "model.compile(optimizer=opt,loss='categorical_crossentropy',metrics=['accuracy',])\n",
        "\n",
        "# Realiza o treinamento\n",
        "historico = model.fit(xtrain, ytrain,validation_data=(xtest,ytest), epochs=NUMERO_EPOCA, batch_size=TAMANHO_BATCH,callbacks=[callback],verbose=1)\n",
        "\n",
        "name_experimenter = str(datetime.timestamp(hour))\n",
        "model.save('Resultados/modelo', save_format=\"h5\")\n",
        "\n",
        "plt.plot(historico.history['accuracy'])\n",
        "plt.title('Metricas')\n",
        "plt.ylabel('Accuracy')\n",
        "plt.xlabel('Epoch')\n",
        "plt.legend(['Train', 'Test'], loc='upper left')\n",
        "plt.savefig('Resultados/exprimento_'+name_experimenter+'_.png')\n",
        "plt.show()\n",
        "\n"
      ],
      "metadata": {
        "id": "JHYAwHc8G4G6",
        "colab": {
          "base_uri": "https://localhost:8080/",
          "height": 573
        },
        "outputId": "b066e54a-bc4a-4b15-ec5b-0c187229cd8c"
      },
      "execution_count": 74,
      "outputs": [
        {
          "output_type": "stream",
          "name": "stdout",
          "text": [
            "Epoch 1/50\n",
            "2/2 [==============================] - 22s 12s/step - loss: 1.6762 - accuracy: 0.9000 - val_loss: 1.4262 - val_accuracy: 0.6000\n",
            "Epoch 2/50\n",
            "2/2 [==============================] - 20s 11s/step - loss: 1.5089 - accuracy: 0.6750 - val_loss: 1.2716 - val_accuracy: 0.6000\n",
            "Epoch 3/50\n",
            "2/2 [==============================] - 20s 11s/step - loss: 1.4474 - accuracy: 0.8000 - val_loss: 1.3093 - val_accuracy: 0.6000\n",
            "Epoch 4/50\n",
            "2/2 [==============================] - 21s 12s/step - loss: 1.4619 - accuracy: 0.8000 - val_loss: 1.2939 - val_accuracy: 0.6000\n",
            "Epoch 5/50\n",
            "2/2 [==============================] - 22s 11s/step - loss: 1.4695 - accuracy: 0.8000 - val_loss: 1.2751 - val_accuracy: 0.6000\n",
            "Epoch 6/50\n",
            "2/2 [==============================] - 20s 11s/step - loss: 1.4672 - accuracy: 0.7750 - val_loss: 1.2599 - val_accuracy: 0.8000\n",
            "Epoch 7/50\n",
            "2/2 [==============================] - 20s 11s/step - loss: 1.4678 - accuracy: 0.8250 - val_loss: 1.2510 - val_accuracy: 0.6000\n",
            "Epoch 8/50\n",
            "2/2 [==============================] - 20s 11s/step - loss: 1.4791 - accuracy: 0.8250 - val_loss: 1.2624 - val_accuracy: 0.8000\n"
          ]
        },
        {
          "output_type": "display_data",
          "data": {
            "text/plain": [
              "<Figure size 432x288 with 1 Axes>"
            ],
            "image/png": "[encoded data removed]"
          },
          "metadata": {
            "needs_background": "light"
          }
        }
      ]
    },
    {
      "cell_type": "code",
      "source": [
        "from tensorflow.keras.preprocessing.image import img_to_array\n",
        "\n",
        "csv = FileCsv()\n",
        "improc = Image()\n",
        "dicionarioImagens = csv.read('train/_annotations.csv')\n",
        "\n",
        "\n",
        "for key in dicionarioImagens.keys():\n",
        "  img = cv2.imread( os.path.join('train',key) )\n",
        "  imgNovo = cv2.resize(img, (TAMANHO_IMAGEM,TAMANHO_IMAGEM), interpolation= cv2.INTER_LINEAR)\n",
        "  imgArray = img_to_array(imgNovo)/255.0\n",
        "  imgArray = np.expand_dims(imgArray, axis=0)\n",
        "  preds = model.predict(imgArray)[0]\n",
        "  print(preds)\n",
        "  (H,W) = img.shape[:2]\n",
        "\n",
        "  point = [int(preds[0]*W) , int(preds[1]*H) , int(preds[2]*W), int(preds[3]*H) ] # Restaura a normalização\n",
        "  \n",
        "  img = ld.drawPlate(img, point, color=(0,255,255))        # Essas são as imagens preditas pela rede\n",
        "  img = ld.drawPlate(img, dicionarioImagens.get(key)[0]) # Essas são as imagens anotadas manualmente\n",
        "\n",
        "  cv2_imshow(ld.getRoi(img, dicionarioImagens.get(key)[0]))\n",
        "  improc.processing(ld.getRoi(img, dicionarioImagens.get(key)[0]))\n",
        "\n",
        "  cv2_imshow(img)\n"
      ],
      "metadata": {
        "id": "ow9rSn4Xp-RU"
      },
      "execution_count": null,
      "outputs": []
    }
  ]
}